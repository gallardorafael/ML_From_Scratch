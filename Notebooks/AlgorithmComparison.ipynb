{
 "cells": [
  {
   "cell_type": "markdown",
   "metadata": {},
   "source": [
    "# Comparación de los algoritmos implementados desde 0 con los algoritmos tomados de bibliotecas. "
   ]
  },
  {
   "cell_type": "markdown",
   "metadata": {},
   "source": [
    "#### Bibliotecas"
   ]
  },
  {
   "cell_type": "code",
   "execution_count": 1,
   "metadata": {},
   "outputs": [],
   "source": [
    "# Bibliotecas públicas\n",
    "import random\n",
    "import os\n",
    "from sklearn import datasets\n",
    "\n",
    "# Bibliotecas personalizadas\n",
    "from Scripts.dataset import open_dataset\n",
    "from Scripts.knn import classify as knn_classify\n",
    "from Scripts.evaluation_metrics import *\n",
    "from Scripts.confusion_matrix import confusion_matrix"
   ]
  },
  {
   "cell_type": "markdown",
   "metadata": {},
   "source": [
    "### Cargando los datos"
   ]
  },
  {
   "cell_type": "code",
   "execution_count": 2,
   "metadata": {
    "scrolled": true
   },
   "outputs": [
    {
     "name": "stdout",
     "output_type": "stream",
     "text": [
      "***************************************************\n",
      "Cantidad de ejemplos en el conjunto:  397\n",
      "Cantidad de atributos: 18\n",
      "Ejemplo de instancia:  ([140.0, 125.0, 0.0, 0.0, 0.0, 0.2777779, 0.06296301, 0.66666675, 0.31111118, 6.185185, 7.3333335, 7.6666665, 3.5555556, 3.4444444, 4.4444447, -7.888889, 7.7777777, 0.5456349], 0)\n",
      "***************************************************\n",
      "Cantidad de ejemplos en el conjunto:  23\n",
      "Cantidad de atributos: 18\n",
      "Ejemplo de instancia:  ([242.0, 65.0, 0.0, 0.0, 0.0, 0.5555553, 0.27216578, 1.0, 0.42163682, 8.925926, 6.111111, 14.333333, 6.3333335, -8.444445, 16.222221, -7.7777777, 14.333333, 0.5834605], 6)\n"
     ]
    }
   ],
   "source": [
    "# Se especifican las rutas al conjunto de entrenamiento y prueba\n",
    "dataset1_train = open_dataset(\"Datasets/Datos-S-Entrena.txt\", True)\n",
    "dataset1_test = open_dataset(\"Datasets/S-Prueba.txt\", True)\n",
    "\n",
    "# Conjunto de datos unido (para validación cruzada)\n",
    "dataset1_completo = dataset1_train + dataset1_test"
   ]
  },
  {
   "cell_type": "markdown",
   "metadata": {},
   "source": [
    "### Realizando predicciones con conjuntos de entrenamiento y prueba"
   ]
  },
  {
   "cell_type": "markdown",
   "metadata": {},
   "source": [
    "#### k vecinos más cercanos"
   ]
  },
  {
   "cell_type": "code",
   "execution_count": 3,
   "metadata": {
    "scrolled": true
   },
   "outputs": [
    {
     "name": "stdout",
     "output_type": "stream",
     "text": [
      "Exactitud del clasificador:  91.30434782608695%\n"
     ]
    }
   ],
   "source": [
    "# Prediciendo sobre el conjunto de prueba\n",
    "knn_predictions = knn_classify(dataset1_train, dataset1_test, k=3, metric='euclidean')\n",
    "print(\"Exactitud del clasificador: \", str(accuracy(knn_predictions, False)*100)+\"%\")"
   ]
  },
  {
   "cell_type": "code",
   "execution_count": 4,
   "metadata": {},
   "outputs": [
    {
     "name": "stdout",
     "output_type": "stream",
     "text": [
      "[4, 3, 4, 3, 4, 3, 2]\n",
      "\t\t[ 0 ,   1 ,   2 ,   3 ,   4 ,   5 ,   6 ]\n"
     ]
    }
   ],
   "source": [
    "# Imprimiento la matriz de confusión\n",
    "confusion_matrix(dataset1_completo,knn_predictions)"
   ]
  },
  {
   "cell_type": "markdown",
   "metadata": {},
   "source": [
    "### Realizando predicciones con validación cruzada"
   ]
  },
  {
   "cell_type": "markdown",
   "metadata": {},
   "source": [
    "#### k vecinos más cercanos"
   ]
  },
  {
   "cell_type": "code",
   "execution_count": 5,
   "metadata": {},
   "outputs": [
    {
     "name": "stdout",
     "output_type": "stream",
     "text": [
      "Diviendo los datos en 10 folds de tamaño 42\n",
      "Puntajes por fold: [0.8809523809523809, 0.9047619047619048, 0.9285714285714286, 0.9523809523809523, 0.9285714285714286, 0.8333333333333334, 0.9047619047619048, 0.9285714285714286, 0.8571428571428571, 0.8333333333333334]\n",
      "Promedio de precisión en k-folds: 0.8952380952380954\n"
     ]
    }
   ],
   "source": [
    "# Aleatorizando el orden del conjunto de datos\n",
    "random.shuffle(dataset1_completo)\n",
    "\n",
    "# Realizando validación cruzada\n",
    "# k_fold_cross_val(data, n_folds, k_vecinos, metric)\n",
    "k_fold_scores = k_fold_cross_val(dataset1_completo, 10, 8, 'euclidean')\n",
    "print(\"Puntajes por fold:\", k_fold_scores)\n",
    "print(\"Promedio de precisión en k-folds:\", sum(k_fold_scores)/len(k_fold_scores))"
   ]
  }
 ],
 "metadata": {
  "kernelspec": {
   "display_name": "Python 3",
   "language": "python",
   "name": "python3"
  },
  "language_info": {
   "codemirror_mode": {
    "name": "ipython",
    "version": 3
   },
   "file_extension": ".py",
   "mimetype": "text/x-python",
   "name": "python",
   "nbconvert_exporter": "python",
   "pygments_lexer": "ipython3",
   "version": "3.8.5"
  }
 },
 "nbformat": 4,
 "nbformat_minor": 4
}
