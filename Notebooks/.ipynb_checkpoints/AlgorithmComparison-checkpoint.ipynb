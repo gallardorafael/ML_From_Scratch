{
 "cells": [
  {
   "cell_type": "markdown",
   "metadata": {},
   "source": [
    "# Comparación de los algoritmos implementados desde 0 con los algoritmos tomados de bibliotecas. "
   ]
  },
  {
   "cell_type": "markdown",
   "metadata": {},
   "source": [
    "#### Bibliotecas"
   ]
  },
  {
   "cell_type": "code",
   "execution_count": 1,
   "metadata": {},
   "outputs": [
    {
     "ename": "ModuleNotFoundError",
     "evalue": "No module named 'Scrips'",
     "output_type": "error",
     "traceback": [
      "\u001b[0;31m---------------------------------------------------------------------------\u001b[0m",
      "\u001b[0;31mModuleNotFoundError\u001b[0m                       Traceback (most recent call last)",
      "\u001b[0;32m<ipython-input-1-8d0b1d5c4a45>\u001b[0m in \u001b[0;36m<module>\u001b[0;34m\u001b[0m\n\u001b[1;32m      8\u001b[0m \u001b[0;32mfrom\u001b[0m \u001b[0mScripts\u001b[0m\u001b[0;34m.\u001b[0m\u001b[0mknn\u001b[0m \u001b[0;32mimport\u001b[0m \u001b[0mclassify\u001b[0m \u001b[0;32mas\u001b[0m \u001b[0mknn_classify\u001b[0m\u001b[0;34m\u001b[0m\u001b[0;34m\u001b[0m\u001b[0m\n\u001b[1;32m      9\u001b[0m \u001b[0;32mfrom\u001b[0m \u001b[0mScripts\u001b[0m\u001b[0;34m.\u001b[0m\u001b[0mevaluation_metrics\u001b[0m \u001b[0;32mimport\u001b[0m \u001b[0;34m*\u001b[0m\u001b[0;34m\u001b[0m\u001b[0;34m\u001b[0m\u001b[0m\n\u001b[0;32m---> 10\u001b[0;31m \u001b[0;32mfrom\u001b[0m \u001b[0mScrips\u001b[0m\u001b[0;34m.\u001b[0m\u001b[0mconfusion_matrix\u001b[0m \u001b[0;32mimport\u001b[0m \u001b[0mconfusion_matrix\u001b[0m\u001b[0;34m\u001b[0m\u001b[0;34m\u001b[0m\u001b[0m\n\u001b[0m",
      "\u001b[0;31mModuleNotFoundError\u001b[0m: No module named 'Scrips'"
     ]
    }
   ],
   "source": [
    "# Bibliotecas públicas\n",
    "import random\n",
    "import os\n",
    "from sklearn import datasets\n",
    "\n",
    "# Bibliotecas personalizadas\n",
    "from Scripts.dataset import open_dataset\n",
    "from Scripts.knn import classify as knn_classify\n",
    "from Scripts.evaluation_metrics import *\n",
    "from Scripts.confusion_matrix import confusion_matrix"
   ]
  },
  {
   "cell_type": "markdown",
   "metadata": {},
   "source": [
    "### Cargando los datos"
   ]
  },
  {
   "cell_type": "code",
   "execution_count": null,
   "metadata": {
    "scrolled": true
   },
   "outputs": [],
   "source": [
    "# Se especifican las rutas al conjunto de entrenamiento y prueba\n",
    "dataset1_train = open_dataset(\"Datasets/Datos-S-Entrena.txt\", True)\n",
    "dataset1_test = open_dataset(\"Datasets/S-Prueba.txt\", True)\n",
    "\n",
    "# Conjunto de datos unido (para validación cruzada)\n",
    "dataset1_completo = dataset1_train + dataset1_test"
   ]
  },
  {
   "cell_type": "markdown",
   "metadata": {},
   "source": [
    "### Realizando predicciones con conjuntos de entrenamiento y prueba"
   ]
  },
  {
   "cell_type": "markdown",
   "metadata": {},
   "source": [
    "#### k vecinos más cercanos"
   ]
  },
  {
   "cell_type": "code",
   "execution_count": null,
   "metadata": {
    "scrolled": true
   },
   "outputs": [],
   "source": [
    "# Prediciendo sobre el conjunto de prueba\n",
    "knn_predictions = knn_classify(dataset1_train, dataset1_test, k=3, metric='euclidean')\n",
    "print(\"Exactitud del clasificador: \", str(accuracy(knn_predictions, False)*100)+\"%\")"
   ]
  },
  {
   "cell_type": "code",
   "execution_count": null,
   "metadata": {},
   "outputs": [],
   "source": [
    "# Imprimiento la matriz de confusión\n",
    "confusion_matrix(dataset1_completo,knn_predictions)"
   ]
  },
  {
   "cell_type": "markdown",
   "metadata": {},
   "source": [
    "### Realizando predicciones con validación cruzada"
   ]
  },
  {
   "cell_type": "markdown",
   "metadata": {},
   "source": [
    "#### k vecinos más cercanos"
   ]
  },
  {
   "cell_type": "code",
   "execution_count": null,
   "metadata": {},
   "outputs": [],
   "source": [
    "# Aleatorizando el orden del conjunto de datos\n",
    "random.shuffle(dataset1_completo)\n",
    "\n",
    "# Realizando validación cruzada\n",
    "# k_fold_cross_val(data, n_folds, k_vecinos, metric)\n",
    "k_fold_scores = k_fold_cross_val(dataset1_completo, 10, 8, 'euclidean')\n",
    "print(\"Puntajes por fold:\", k_fold_scores)\n",
    "print(\"Promedio de precisión en k-folds:\", sum(k_fold_scores)/len(k_fold_scores))"
   ]
  }
 ],
 "metadata": {
  "kernelspec": {
   "display_name": "Python 3",
   "language": "python",
   "name": "python3"
  },
  "language_info": {
   "codemirror_mode": {
    "name": "ipython",
    "version": 3
   },
   "file_extension": ".py",
   "mimetype": "text/x-python",
   "name": "python",
   "nbconvert_exporter": "python",
   "pygments_lexer": "ipython3",
   "version": "3.8.5"
  }
 },
 "nbformat": 4,
 "nbformat_minor": 4
}
